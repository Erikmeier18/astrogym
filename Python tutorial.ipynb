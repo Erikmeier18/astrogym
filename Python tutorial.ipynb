{
 "cells": [
  {
   "cell_type": "markdown",
   "id": "6f4199d8",
   "metadata": {},
   "source": [
    "# Python tutorial"
   ]
  },
  {
   "cell_type": "markdown",
   "id": "004f6ca5",
   "metadata": {},
   "source": [
    "### Erik Meier & Brice-Olivier Demory"
   ]
  },
  {
   "cell_type": "markdown",
   "id": "c14ef056",
   "metadata": {},
   "source": [
    "11.10.2023"
   ]
  },
  {
   "cell_type": "markdown",
   "id": "51b12c8f",
   "metadata": {},
   "source": [
    "Here we introduce basic notions of the programming language python, widely used by the astronomy community. We follow mostly the introductory book 'A whirlwind tour of Python' by Jake VanderPlas. When it comes to programming, browsing in search engines is extremely useful. If you have any questions on how to type certain commands, it's very likely someone had the same question before and posted it on online forums. Take advantage of thie virtual community! "
   ]
  },
  {
   "cell_type": "markdown",
   "id": "c7bed1aa",
   "metadata": {},
   "source": [
    "First, let's introduce the concept of a module. Here we load basic modules used in a daily basis: numpy and matplotlib. The first is an efficient data storage, permits to create arrays (matrices) with values or data, as well as mathematical functions such as sin, cos, tan, exp, ... Matplotlib is used to create plots and figures in general. You can call the modules by typing the command \"import\" and the name of the module. The command \"as\" assigns a nickname to the module. Instead of using numpy by typing numpy, you type the nickname of your choice. It is custom to call numpy as np, while matplotlib.pyplot is called plt. "
   ]
  },
  {
   "cell_type": "markdown",
   "id": "81de2248",
   "metadata": {},
   "source": [
    "Essential modules are: numpy, pandas, matplotlib, scipy, to name a few. "
   ]
  },
  {
   "cell_type": "code",
   "execution_count": 1,
   "id": "bd27d580",
   "metadata": {},
   "outputs": [],
   "source": [
    "import numpy as np\n",
    "import matplotlib.pyplot as plt"
   ]
  },
  {
   "cell_type": "markdown",
   "id": "5968f967",
   "metadata": {},
   "source": [
    "You can also use python as a calculator. "
   ]
  },
  {
   "cell_type": "code",
   "execution_count": 2,
   "id": "225fdba2",
   "metadata": {},
   "outputs": [
    {
     "data": {
      "text/plain": [
       "2"
      ]
     },
     "execution_count": 2,
     "metadata": {},
     "output_type": "execute_result"
    }
   ],
   "source": [
    "1+1"
   ]
  },
  {
   "cell_type": "markdown",
   "id": "746a9036",
   "metadata": {},
   "source": [
    "Or create variables (very handy and used frequently)."
   ]
  },
  {
   "cell_type": "code",
   "execution_count": 3,
   "id": "ea4cdcd2",
   "metadata": {},
   "outputs": [],
   "source": [
    "x = 5"
   ]
  },
  {
   "cell_type": "code",
   "execution_count": 4,
   "id": "e9b95c6a",
   "metadata": {},
   "outputs": [
    {
     "name": "stdout",
     "output_type": "stream",
     "text": [
      "5\n"
     ]
    }
   ],
   "source": [
    "print(x)"
   ]
  },
  {
   "cell_type": "code",
   "execution_count": 6,
   "id": "4d310822",
   "metadata": {},
   "outputs": [
    {
     "name": "stdout",
     "output_type": "stream",
     "text": [
      "My variable x represents the integer 5\n"
     ]
    }
   ],
   "source": [
    "print('My variable x represents the integer', x)"
   ]
  },
  {
   "cell_type": "code",
   "execution_count": 8,
   "id": "0256aa8c",
   "metadata": {},
   "outputs": [],
   "source": [
    "# This is a comment within a python command line. \n",
    "# Use # to write a comment. When running the script, a line starting by # will not be read"
   ]
  },
  {
   "cell_type": "markdown",
   "id": "b812c389",
   "metadata": {},
   "source": [
    "Lists and arrays are important concepts. Although they can look similar, they have different characteristics. Usually a list contains objects as strings. You cannot perform numerical computations on lists, while you can with arrays. It get's confusing for example by filling a list with arrays, since accessing to an array you can perfom computations with it but not on the list containing it. Let's create a list with random objects. To create a list, put your objects inside square brackets and separate each object by a comma. "
   ]
  },
  {
   "cell_type": "code",
   "execution_count": 12,
   "id": "821eeceb",
   "metadata": {},
   "outputs": [],
   "source": [
    "list_1 = ['apple', 2, x]"
   ]
  },
  {
   "cell_type": "markdown",
   "id": "e954065c",
   "metadata": {},
   "source": [
    "Our list consists of the string \"apple\", the integer 2 and the variable x we created previously. We assigned the list to a variable called \"list_1\". By typing the name of the variable in a cell, you can view the content of it."
   ]
  },
  {
   "cell_type": "code",
   "execution_count": 13,
   "id": "706710d2",
   "metadata": {},
   "outputs": [
    {
     "data": {
      "text/plain": [
       "['apple', 2, 5]"
      ]
     },
     "execution_count": 13,
     "metadata": {},
     "output_type": "execute_result"
    }
   ],
   "source": [
    "list_1"
   ]
  },
  {
   "cell_type": "markdown",
   "id": "45ff4989",
   "metadata": {},
   "source": [
    "To access a specific object, put a square bracket after the name of your list and put the number of entry you want. By construction, on python the first entry is represented by a zero, not one. Thus, if I want to access the object 'apple', I have to call the zeroth element. Let's do that:"
   ]
  },
  {
   "cell_type": "code",
   "execution_count": 14,
   "id": "304349fa",
   "metadata": {},
   "outputs": [
    {
     "data": {
      "text/plain": [
       "'apple'"
      ]
     },
     "execution_count": 14,
     "metadata": {},
     "output_type": "execute_result"
    }
   ],
   "source": [
    "list_1[0]"
   ]
  },
  {
   "cell_type": "markdown",
   "id": "f44698aa",
   "metadata": {},
   "source": [
    "Here's a powerful tool: Assigning variables of entries from a list:"
   ]
  },
  {
   "cell_type": "code",
   "execution_count": 15,
   "id": "06a732f4",
   "metadata": {},
   "outputs": [],
   "source": [
    "y = list_1[1]"
   ]
  },
  {
   "cell_type": "markdown",
   "id": "2e255b2a",
   "metadata": {},
   "source": [
    "Now the variable y has the same value as the second entry in our list. The usefulness of this will be clear with practice. This time let's create an array. "
   ]
  },
  {
   "cell_type": "code",
   "execution_count": 17,
   "id": "3ffa3847",
   "metadata": {},
   "outputs": [],
   "source": [
    "a = np.array([1,2,3,4])"
   ]
  },
  {
   "cell_type": "markdown",
   "id": "827289d6",
   "metadata": {},
   "source": [
    "Note that the array has a list inside, but its properties are different. Now we can perform numerical manipulations on it. Let's get to the fun part and create a variable x (note that we already had a variable called x. This step will overwrite the previous value of x and replace with the new value(s)) with range between -10 and 10 with 100 elements, that is, we will get an array of elements starting at -10 and going all the way to 10 with 100 equally spaced elements. "
   ]
  },
  {
   "cell_type": "code",
   "execution_count": 18,
   "id": "1315b8e5",
   "metadata": {},
   "outputs": [],
   "source": [
    "x = np.linspace(-10, 10, 100)"
   ]
  },
  {
   "cell_type": "markdown",
   "id": "55e503dc",
   "metadata": {},
   "source": [
    "Now let's define a quadratic function of x. "
   ]
  },
  {
   "cell_type": "code",
   "execution_count": 19,
   "id": "5c0d0185",
   "metadata": {},
   "outputs": [],
   "source": [
    "y = (x-3)*(x+2)"
   ]
  },
  {
   "cell_type": "markdown",
   "id": "23526e08",
   "metadata": {},
   "source": [
    "It should have as roots x_1 = 3 and x_2 = -2 (where the function intersects the x axis, where y has the value 0). To confirm this, let's plot the function using matplotlib."
   ]
  },
  {
   "cell_type": "code",
   "execution_count": 20,
   "id": "fc82b0e4",
   "metadata": {},
   "outputs": [
    {
     "data": {
      "text/plain": [
       "[<matplotlib.lines.Line2D at 0x7ffaf6871970>]"
      ]
     },
     "execution_count": 20,
     "metadata": {},
     "output_type": "execute_result"
    },
    {
     "data": {
      "image/png": "[encoded data removed]",
      "text/plain": [
       "<Figure size 640x480 with 1 Axes>"
      ]
     },
     "metadata": {},
     "output_type": "display_data"
    }
   ],
   "source": [
    "plt.plot(x, y)"
   ]
  },
  {
   "cell_type": "markdown",
   "id": "e446099d",
   "metadata": {},
   "source": [
    "We can customise further:"
   ]
  },
  {
   "cell_type": "code",
   "execution_count": 23,
   "id": "53d4eb77",
   "metadata": {},
   "outputs": [
    {
     "data": {
      "image/png": "[encoded data removed]",
      "text/plain": [
       "<Figure size 640x480 with 1 Axes>"
      ]
     },
     "metadata": {},
     "output_type": "display_data"
    }
   ],
   "source": [
    "plt.plot(x, y, color='red')\n",
    "plt.xlabel('x')\n",
    "plt.ylabel('y')\n",
    "plt.title('Quadratic function')\n",
    "plt.grid()"
   ]
  },
  {
   "cell_type": "markdown",
   "id": "0721faaf",
   "metadata": {},
   "source": [
    "### Exercise 1: Define multiple functions of your choice (linear, quadratic, trigonometric, exponential,...) and plot all in the same figure. "
   ]
  },
  {
   "cell_type": "code",
   "execution_count": null,
   "id": "42db6eac",
   "metadata": {},
   "outputs": [],
   "source": []
  }
 ],
 "metadata": {
  "kernelspec": {
   "display_name": "Python 3 (ipykernel)",
   "language": "python",
   "name": "python3"
  },
  "language_info": {
   "codemirror_mode": {
    "name": "ipython",
    "version": 3
   },
   "file_extension": ".py",
   "mimetype": "text/x-python",
   "name": "python",
   "nbconvert_exporter": "python",
   "pygments_lexer": "ipython3",
   "version": "3.8.3"
  }
 },
 "nbformat": 4,
 "nbformat_minor": 5
}
