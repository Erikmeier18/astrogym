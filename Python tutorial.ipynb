{
 "cells": [
  {
   "cell_type": "markdown",
   "id": "01ecf405",
   "metadata": {},
   "source": [
    "# Python tutorial"
   ]
  },
  {
   "cell_type": "markdown",
   "id": "d51238b1",
   "metadata": {},
   "source": [
    "### Erik Meier & Brice-Olivier Demory"
   ]
  },
  {
   "cell_type": "markdown",
   "id": "d7f9074a",
   "metadata": {},
   "source": [
    "11.10.2023"
   ]
  },
  {
   "cell_type": "markdown",
   "id": "a60bd19c",
   "metadata": {},
   "source": [
    "Here we introduce basic notions of the programming language python, widely used by the astronomy community. We follow mostly the introductory book 'A whirlwind tour of Python' by Jake VanderPlas. When it comes to programming, browsing in search engines is extremely useful. If you have any questions on how to type certain commands, it's very likely someone had the same question before and posted it on online forums. Take advantage of thie virtual community! "
   ]
  },
  {
   "cell_type": "markdown",
   "id": "4ea54bb9",
   "metadata": {},
   "source": [
    "First, let's introduce the concept of a module. Here we load basic modules used in a daily basis: numpy and matplotlib. The first is an efficient data storage, permits to create arrays (matrices) with values or data, as well as mathematical functions such as sin, cos, tan, exp, ... Matplotlib is used to create plots and figures in general. You can call the modules by typing the command \"import\" and the name of the module. The command \"as\" assigns a nickname to the module. Instead of using numpy by typing numpy, you type the nickname of your choice. It is custom to call numpy as np, while matplotlib.pyplot is called plt. "
   ]
  },
  {
   "cell_type": "markdown",
   "id": "713c6180",
   "metadata": {},
   "source": [
    "Essential modules are: numpy, pandas, matplotlib, scipy, to name a few. "
   ]
  },
  {
   "cell_type": "code",
   "execution_count": 1,
   "id": "c264f88f",
   "metadata": {},
   "outputs": [],
   "source": [
    "import numpy as np\n",
    "import matplotlib.pyplot as plt"
   ]
  },
  {
   "cell_type": "markdown",
   "id": "aee4bb1c",
   "metadata": {},
   "source": [
    "You can also use python as a calculator. "
   ]
  },
  {
   "cell_type": "code",
   "execution_count": 2,
   "id": "96735a63",
   "metadata": {},
   "outputs": [
    {
     "data": {
      "text/plain": [
       "2"
      ]
     },
     "execution_count": 2,
     "metadata": {},
     "output_type": "execute_result"
    }
   ],
   "source": [
    "1+1"
   ]
  },
  {
   "cell_type": "markdown",
   "id": "893c5563",
   "metadata": {},
   "source": [
    "Or create variables (very handy and used frequently)."
   ]
  },
  {
   "cell_type": "code",
   "execution_count": 3,
   "id": "07678627",
   "metadata": {},
   "outputs": [],
   "source": [
    "x = 5"
   ]
  },
  {
   "cell_type": "code",
   "execution_count": 4,
   "id": "cb1fa287",
   "metadata": {},
   "outputs": [
    {
     "name": "stdout",
     "output_type": "stream",
     "text": [
      "5\n"
     ]
    }
   ],
   "source": [
    "print(x)"
   ]
  },
  {
   "cell_type": "code",
   "execution_count": 6,
   "id": "e6869902",
   "metadata": {},
   "outputs": [
    {
     "name": "stdout",
     "output_type": "stream",
     "text": [
      "My variable x represents the integer 5\n"
     ]
    }
   ],
   "source": [
    "print('My variable x represents the integer', x)"
   ]
  },
  {
   "cell_type": "code",
   "execution_count": 8,
   "id": "a603b282",
   "metadata": {},
   "outputs": [],
   "source": [
    "# This is a comment within a python command line. \n",
    "# Use # to write a comment. When running the script, a line starting by # will not be read"
   ]
  },
  {
   "cell_type": "markdown",
   "id": "f31f6ae0",
   "metadata": {},
   "source": [
    "Lists and arrays are important concepts. Although they can look similar, they have different characteristics. Usually a list contains objects as strings. You cannot perform numerical computations on lists, while you can with arrays. It get's confusing for example by filling a list with arrays, since accessing to an array you can perfom computations with it but not on the list containing it. Let's create a list with random objects. To create a list, put your objects inside square brackets and separate each object by a comma. "
   ]
  },
  {
   "cell_type": "code",
   "execution_count": 12,
   "id": "c188cf3f",
   "metadata": {},
   "outputs": [],
   "source": [
    "list_1 = ['apple', 2, x]"
   ]
  },
  {
   "cell_type": "markdown",
   "id": "e1addd21",
   "metadata": {},
   "source": [
    "Our list consists of the string \"apple\", the integer 2 and the variable x we created previously. We assigned the list to a variable called \"list_1\". By typing the name of the variable in a cell, you can view the content of it."
   ]
  },
  {
   "cell_type": "code",
   "execution_count": 13,
   "id": "8cfcfe1e",
   "metadata": {},
   "outputs": [
    {
     "data": {
      "text/plain": [
       "['apple', 2, 5]"
      ]
     },
     "execution_count": 13,
     "metadata": {},
     "output_type": "execute_result"
    }
   ],
   "source": [
    "list_1"
   ]
  },
  {
   "cell_type": "markdown",
   "id": "4c795095",
   "metadata": {},
   "source": [
    "To access a specific object, put a square bracket after the name of your list and put the number of entry you want. By construction, on python the first entry is represented by a zero, not one. Thus, if I want to access the object 'apple', I have to call the zeroth element. Let's do that:"
   ]
  },
  {
   "cell_type": "code",
   "execution_count": 14,
   "id": "13289cbb",
   "metadata": {},
   "outputs": [
    {
     "data": {
      "text/plain": [
       "'apple'"
      ]
     },
     "execution_count": 14,
     "metadata": {},
     "output_type": "execute_result"
    }
   ],
   "source": [
    "list_1[0]"
   ]
  },
  {
   "cell_type": "markdown",
   "id": "655724a8",
   "metadata": {},
   "source": [
    "Here's a powerful tool: Assigning variables of entries from a list:"
   ]
  },
  {
   "cell_type": "code",
   "execution_count": 15,
   "id": "3b293995",
   "metadata": {},
   "outputs": [],
   "source": [
    "y = list_1[1]"
   ]
  },
  {
   "cell_type": "markdown",
   "id": "e5a4b76f",
   "metadata": {},
   "source": [
    "Now the variable y has the same value as the second entry in our list. The usefulness of this will be clear with practice. This time let's create an array. "
   ]
  },
  {
   "cell_type": "code",
   "execution_count": 17,
   "id": "07f6d9a5",
   "metadata": {},
   "outputs": [],
   "source": [
    "a = np.array([1,2,3,4])"
   ]
  },
  {
   "cell_type": "markdown",
   "id": "a9cc2e1f",
   "metadata": {},
   "source": [
    "Note that the array has a list inside, but its properties are different. Now we can perform numerical manipulations on it. Let's get to the fun part and create a variable x (note that we already had a variable called x. This step will overwrite the previous value of x and replace with the new value(s)) with range between -10 and 10 with 100 elements, that is, we will get an array of elements starting at -10 and going all the way to 10 with 100 equally spaced elements. "
   ]
  },
  {
   "cell_type": "code",
   "execution_count": 18,
   "id": "715ddd83",
   "metadata": {},
   "outputs": [],
   "source": [
    "x = np.linspace(-10, 10, 100)"
   ]
  },
  {
   "cell_type": "markdown",
   "id": "f0b63e1c",
   "metadata": {},
   "source": [
    "Now let's define a quadratic function of x. "
   ]
  },
  {
   "cell_type": "code",
   "execution_count": 19,
   "id": "2b25a141",
   "metadata": {},
   "outputs": [],
   "source": [
    "y = (x-3)*(x+2)"
   ]
  },
  {
   "cell_type": "markdown",
   "id": "afbdfbc5",
   "metadata": {},
   "source": [
    "It should have as roots x_1 = 3 and x_2 = -2 (where the function intersects the x axis, where y has the value 0). To confirm this, let's plot the function using matplotlib."
   ]
  },
  {
   "cell_type": "code",
   "execution_count": 20,
   "id": "f084a7f5",
   "metadata": {},
   "outputs": [
    {
     "data": {
      "text/plain": [
       "[<matplotlib.lines.Line2D at 0x7ffaf6871970>]"
      ]
     },
     "execution_count": 20,
     "metadata": {},
     "output_type": "execute_result"
    },
    {
     "data": {
      "image/png": "[encoded data removed]",
      "text/plain": [
       "<Figure size 640x480 with 1 Axes>"
      ]
     },
     "metadata": {},
     "output_type": "display_data"
    }
   ],
   "source": [
    "plt.plot(x, y)"
   ]
  },
  {
   "cell_type": "markdown",
   "id": "cb967ede",
   "metadata": {},
   "source": [
    "We can customise further:"
   ]
  },
  {
   "cell_type": "code",
   "execution_count": 23,
   "id": "6b4c9d02",
   "metadata": {},
   "outputs": [
    {
     "data": {
      "image/png": "[encoded data removed]",
      "text/plain": [
       "<Figure size 640x480 with 1 Axes>"
      ]
     },
     "metadata": {},
     "output_type": "display_data"
    }
   ],
   "source": [
    "plt.plot(x, y, color='red')\n",
    "plt.xlabel('x')\n",
    "plt.ylabel('y')\n",
    "plt.title('Quadratic function')\n",
    "plt.grid()"
   ]
  },
  {
   "cell_type": "markdown",
   "id": "cc344d34",
   "metadata": {},
   "source": [
    "### Exercise 1: Define multiple functions of your choice (linear, quadratic, trigonometric, exponential,...) and plot all in the same figure. "
   ]
  },
  {
   "cell_type": "markdown",
   "id": "fc029fb2",
   "metadata": {},
   "source": [
    "Conditional statements: If, elif and else"
   ]
  },
  {
   "cell_type": "markdown",
   "id": "c03a743e",
   "metadata": {},
   "source": [
    "for loops: Allow to execute certain pieces of code depending on some Boolean condition. "
   ]
  },
  {
   "cell_type": "code",
   "execution_count": 40,
   "id": "86643f13",
   "metadata": {},
   "outputs": [
    {
     "name": "stdout",
     "output_type": "stream",
     "text": [
      "-15 is negative\n"
     ]
    }
   ],
   "source": [
    "x = -15\n",
    "\n",
    "if x == 0:\n",
    "    print(x, \"is zero\")\n",
    "elif x > 0:\n",
    "    print(x, \"is positive\")\n",
    "elif x < 0:\n",
    "    print(x, \"is negative\")\n",
    "else:\n",
    "    print(x, \"is unlike anything I've ever seen...\")"
   ]
  },
  {
   "cell_type": "markdown",
   "id": "d2fc4390",
   "metadata": {},
   "source": [
    "while loops: interates until some condition is met. "
   ]
  },
  {
   "cell_type": "code",
   "execution_count": 39,
   "id": "b3cf7c3c",
   "metadata": {},
   "outputs": [
    {
     "name": "stdout",
     "output_type": "stream",
     "text": [
      "0 1 2 3 4 5 6 7 8 9 "
     ]
    }
   ],
   "source": [
    "i = 0\n",
    "while i < 10:\n",
    "    print(i, end= ' ')\n",
    "    i += 1"
   ]
  },
  {
   "cell_type": "markdown",
   "id": "896a4bdf",
   "metadata": {},
   "source": [
    "### Exercise 2: Have a close look at the code below, especially in the output L. Try to explain what is going on. What is the code doing? "
   ]
  },
  {
   "cell_type": "code",
   "execution_count": 55,
   "id": "d79dd604",
   "metadata": {},
   "outputs": [],
   "source": [
    "a = 0\n",
    "b = 1\n",
    "L = []\n",
    "while len(L)<12:\n",
    "    a, b = b, a+b\n",
    "    L.append(a)"
   ]
  },
  {
   "cell_type": "code",
   "execution_count": 56,
   "id": "25bd7f48",
   "metadata": {},
   "outputs": [
    {
     "data": {
      "text/plain": [
       "[1, 1, 2, 3, 5, 8, 13, 21, 34, 55, 89, 144]"
      ]
     },
     "execution_count": 56,
     "metadata": {},
     "output_type": "execute_result"
    }
   ],
   "source": [
    "L"
   ]
  },
  {
   "cell_type": "markdown",
   "id": "eb0379d2",
   "metadata": {},
   "source": [
    "We conclude this brief tutorial by introducing functions. These are defined with the \"def\" statement. As in mathematics, functions depend on arguments, but the power is that one can get the output of the function for any feeded argument. Below is a function that computes a linear function, where the arguments are the slope m and intercept b. "
   ]
  },
  {
   "cell_type": "code",
   "execution_count": 57,
   "id": "416f974f",
   "metadata": {},
   "outputs": [],
   "source": [
    "def linear(x, m, b):\n",
    "    return m*x+b"
   ]
  },
  {
   "cell_type": "markdown",
   "id": "05ca18ca",
   "metadata": {},
   "source": [
    "Let's assign values, m=0.5, b=-2 and x to range between 0 and 10. "
   ]
  },
  {
   "cell_type": "code",
   "execution_count": 58,
   "id": "defe4b40",
   "metadata": {},
   "outputs": [],
   "source": [
    "x = np.linspace(0, 10, 100)\n",
    "m = 0.5\n",
    "b = -2"
   ]
  },
  {
   "cell_type": "code",
   "execution_count": 59,
   "id": "51937722",
   "metadata": {},
   "outputs": [],
   "source": [
    "y = linear(x, m, b)"
   ]
  },
  {
   "cell_type": "markdown",
   "id": "ee1c9613",
   "metadata": {},
   "source": [
    "Or this can be done also like this:"
   ]
  },
  {
   "cell_type": "code",
   "execution_count": 60,
   "id": "742dd4bc",
   "metadata": {},
   "outputs": [],
   "source": [
    "y = linear(np.linspace(0, 10, 100), 0.5, -2)"
   ]
  },
  {
   "cell_type": "code",
   "execution_count": 61,
   "id": "821d41bc",
   "metadata": {},
   "outputs": [
    {
     "data": {
      "text/plain": [
       "[<matplotlib.lines.Line2D at 0x7ffaf2bab3d0>]"
      ]
     },
     "execution_count": 61,
     "metadata": {},
     "output_type": "execute_result"
    },
    {
     "data": {
      "image/png": "[encoded data removed]",
      "text/plain": [
       "<Figure size 640x480 with 1 Axes>"
      ]
     },
     "metadata": {},
     "output_type": "display_data"
    }
   ],
   "source": [
    "plt.plot(x, y, color='black')"
   ]
  },
  {
   "cell_type": "markdown",
   "id": "888405b4",
   "metadata": {},
   "source": [
    "That's it for now!"
   ]
  },
  {
   "cell_type": "code",
   "execution_count": 26,
   "id": "7d35a459",
   "metadata": {},
   "outputs": [],
   "source": [
    "import watermark\n",
    "import matplotlib"
   ]
  },
  {
   "cell_type": "code",
   "execution_count": 35,
   "id": "9fe3c326",
   "metadata": {},
   "outputs": [
    {
     "name": "stdout",
     "output_type": "stream",
     "text": [
      "The watermark extension is already loaded. To reload it, use:\n",
      "  %reload_ext watermark\n",
      "Python implementation: CPython\n",
      "Python version       : 3.8.3\n",
      "IPython version      : 8.6.0\n",
      "\n",
      "numpy     : 1.20.1\n",
      "matplotlib: None\n",
      "watermark : 2.4.3\n",
      "\n",
      "Compiler    : Clang 10.0.0 \n",
      "OS          : Darwin\n",
      "Release     : 20.6.0\n",
      "Machine     : x86_64\n",
      "Processor   : i386\n",
      "CPU cores   : 8\n",
      "Architecture: 64bit\n",
      "\n"
     ]
    }
   ],
   "source": [
    "%load_ext watermark\n",
    "\n",
    "%watermark -v -m -p numpy,matplotlib,watermark"
   ]
  }
 ],
 "metadata": {
  "kernelspec": {
   "display_name": "Python 3 (ipykernel)",
   "language": "python",
   "name": "python3"
  },
  "language_info": {
   "codemirror_mode": {
    "name": "ipython",
    "version": 3
   },
   "file_extension": ".py",
   "mimetype": "text/x-python",
   "name": "python",
   "nbconvert_exporter": "python",
   "pygments_lexer": "ipython3",
   "version": "3.8.3"
  }
 },
 "nbformat": 4,
 "nbformat_minor": 5
}
