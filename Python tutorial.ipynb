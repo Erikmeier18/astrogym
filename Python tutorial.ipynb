{
 "cells": [
  {
   "cell_type": "markdown",
   "id": "e93e8a9b",
   "metadata": {},
   "source": [
    "# Python tutorial"
   ]
  },
  {
   "cell_type": "markdown",
   "id": "320f2620",
   "metadata": {},
   "source": [
    "### Erik Meier & Brice-Olivier Demory"
   ]
  },
  {
   "cell_type": "markdown",
   "id": "00e77ad6",
   "metadata": {},
   "source": [
    "11.10.2023"
   ]
  },
  {
   "cell_type": "markdown",
   "id": "8a3bb5fd",
   "metadata": {},
   "source": [
    "Here we introduce basic notions of the programming language python, widely used by the astronomy community. We follow mostly the introductory book 'A whirlwind tour of Python' by Jake VanderPlas. When it comes to programming, browsing in search engines is extremely useful. If you have any questions on how to type certain commands, it's very likely someone had the same question before and posted it on online forums. Benefit of thie virtual community. "
   ]
  },
  {
   "cell_type": "markdown",
   "id": "59d9c483",
   "metadata": {},
   "source": [
    "First, let's introduce the concept of a module. Here we load basic modules used in a daily basis: numpy and matplotlib. The first is an efficient data storage, permits to create arrays (matrices) with values or data, as well as mathematical functions such as sin, cos, tan, exp, ... Matplotlib is used to create plots and figures in general. You can call the modules by typing the command \"import\" and the name of the module. The command \"as\" assigns a nickname to the module. Instead of using numpy by typing numpy, you type the nickname of your choice. It is custom to call numpy as np, while matplotlib.pyplot is called plt. "
   ]
  },
  {
   "cell_type": "markdown",
   "id": "169ffe29",
   "metadata": {},
   "source": [
    "Essential modules are: numpy, pandas, matplotlib, scipy, to name a few. "
   ]
  },
  {
   "cell_type": "code",
   "execution_count": null,
   "id": "349d048e",
   "metadata": {},
   "outputs": [],
   "source": [
    "import numpy as np\n",
    "import matplotlib.pyplot as plt"
   ]
  },
  {
   "cell_type": "markdown",
   "id": "21eef1f0",
   "metadata": {},
   "source": [
    "You can also use python as a calculator. "
   ]
  },
  {
   "cell_type": "code",
   "execution_count": null,
   "id": "6aa2e274",
   "metadata": {},
   "outputs": [],
   "source": [
    "1+1"
   ]
  },
  {
   "cell_type": "markdown",
   "id": "b12db61e",
   "metadata": {},
   "source": [
    "Or create variables (very handy and used frequently)."
   ]
  },
  {
   "cell_type": "code",
   "execution_count": null,
   "id": "0a927e73",
   "metadata": {},
   "outputs": [],
   "source": [
    "x = 5"
   ]
  },
  {
   "cell_type": "code",
   "execution_count": null,
   "id": "4e9f3bb3",
   "metadata": {},
   "outputs": [],
   "source": [
    "print(x)"
   ]
  },
  {
   "cell_type": "code",
   "execution_count": null,
   "id": "090a5b37",
   "metadata": {},
   "outputs": [],
   "source": [
    "print('My variable x represents the integer', x)"
   ]
  },
  {
   "cell_type": "code",
   "execution_count": null,
   "id": "bd139dd2",
   "metadata": {},
   "outputs": [],
   "source": [
    "# This is a comment within a python command line. \n",
    "# Use # to write a comment. When running the script, a line starting by # will not be read"
   ]
  },
  {
   "cell_type": "markdown",
   "id": "43982903",
   "metadata": {},
   "source": [
    "Lists and arrays are important concepts. Although they can look similar, they have different characteristics. Usually a list contains objects as strings. You cannot perform numerical computations on lists, while you can with arrays. It get's confusing for example by filling a list with arrays, since accessing to an array you can perfom computations with it but not on the list containing it. Let's create a list with random objects. To create a list, put your objects inside square brackets and separate each object by a comma. "
   ]
  },
  {
   "cell_type": "code",
   "execution_count": null,
   "id": "c9195f8a",
   "metadata": {},
   "outputs": [],
   "source": [
    "list_1 = ['apple', 2, x]"
   ]
  },
  {
   "cell_type": "markdown",
   "id": "1e175d6c",
   "metadata": {},
   "source": [
    "Our list consists of the string \"apple\", the integer 2 and the variable x we created previously. We assigned the list to a variable called \"list_1\". By typing the name of the variable in a cell, you can view the content of it."
   ]
  },
  {
   "cell_type": "code",
   "execution_count": null,
   "id": "2c12c9e2",
   "metadata": {},
   "outputs": [],
   "source": [
    "list_1"
   ]
  },
  {
   "cell_type": "markdown",
   "id": "043a0031",
   "metadata": {},
   "source": [
    "To access a specific object, put a square bracket after the name of your list and put the number of entry you want. By construction, on python the first entry is represented by a zero, not one. Thus, if I want to access the object 'apple', I have to call the zeroth element. Let's do that:"
   ]
  },
  {
   "cell_type": "code",
   "execution_count": null,
   "id": "57f03a5a",
   "metadata": {},
   "outputs": [],
   "source": [
    "list_1[0]"
   ]
  },
  {
   "cell_type": "markdown",
   "id": "fd737529",
   "metadata": {},
   "source": [
    "Here's a powerful tool: Assigning variables of entries from a list:"
   ]
  },
  {
   "cell_type": "code",
   "execution_count": null,
   "id": "659f46f3",
   "metadata": {},
   "outputs": [],
   "source": [
    "y = list_1[1]"
   ]
  },
  {
   "cell_type": "markdown",
   "id": "1042a227",
   "metadata": {},
   "source": [
    "Now the variable y has the same value as the second entry in our list. The usefulness of this will be clear with practice. This time let's create an array. "
   ]
  },
  {
   "cell_type": "code",
   "execution_count": null,
   "id": "c2752ebe",
   "metadata": {},
   "outputs": [],
   "source": [
    "a = np.array([1,2,3,4])"
   ]
  },
  {
   "cell_type": "markdown",
   "id": "2ad1cd46",
   "metadata": {},
   "source": [
    "Note that the array has a list inside, but its properties are different. Now we can perform numerical manipulations on it. Let's get to the fun part and create a variable x (note that we already had a variable called x. This step will overwrite the previous value of x and replace with the new value(s)) with range between -10 and 10 with 100 elements, that is, we will get an array of elements starting at -10 and going all the way to 10 with 100 equally spaced elements. "
   ]
  },
  {
   "cell_type": "code",
   "execution_count": null,
   "id": "bdbe3818",
   "metadata": {},
   "outputs": [],
   "source": [
    "x = np.linspace(-10, 10, 100)"
   ]
  },
  {
   "cell_type": "markdown",
   "id": "b246684e",
   "metadata": {},
   "source": [
    "Now let's define a quadratic function of x. "
   ]
  },
  {
   "cell_type": "code",
   "execution_count": null,
   "id": "2f1e95af",
   "metadata": {},
   "outputs": [],
   "source": [
    "y = (x-3)*(x+2)"
   ]
  },
  {
   "cell_type": "markdown",
   "id": "1d7b7897",
   "metadata": {},
   "source": [
    "It should have as roots x_1 = 3 and x_2 = -2 (where the function intersects the x axis, where y has the value 0). To confirm this, let's plot the function using matplotlib."
   ]
  },
  {
   "cell_type": "code",
   "execution_count": null,
   "id": "efdaf900",
   "metadata": {},
   "outputs": [],
   "source": [
    "plt.plot(x, y)"
   ]
  },
  {
   "cell_type": "markdown",
   "id": "069cc703",
   "metadata": {},
   "source": [
    "We can customise further:"
   ]
  },
  {
   "cell_type": "code",
   "execution_count": null,
   "id": "78c74e27",
   "metadata": {},
   "outputs": [],
   "source": [
    "plt.plot(x, y, color='red')\n",
    "plt.xlabel('x')\n",
    "plt.ylabel('y')\n",
    "plt.title('Quadratic function')\n",
    "plt.grid()"
   ]
  },
  {
   "cell_type": "markdown",
   "id": "8ad13d91",
   "metadata": {},
   "source": [
    "### Exercise 1: Define multiple functions of your choice (linear, quadratic, trigonometric, exponential,...) and plot all in the same figure. "
   ]
  },
  {
   "cell_type": "markdown",
   "id": "21fd42a0",
   "metadata": {},
   "source": [
    "Conditional statements: If, elif and else"
   ]
  },
  {
   "cell_type": "markdown",
   "id": "a08c61ba",
   "metadata": {},
   "source": [
    "for loops: Allow to execute certain pieces of code depending on some Boolean condition. "
   ]
  },
  {
   "cell_type": "code",
   "execution_count": null,
   "id": "9b5818cc",
   "metadata": {},
   "outputs": [],
   "source": [
    "x = -15\n",
    "\n",
    "if x == 0:\n",
    "    print(x, \"is zero\")\n",
    "elif x > 0:\n",
    "    print(x, \"is positive\")\n",
    "elif x < 0:\n",
    "    print(x, \"is negative\")\n",
    "else:\n",
    "    print(x, \"is unlike anything I've ever seen...\")"
   ]
  },
  {
   "cell_type": "markdown",
   "id": "14973309",
   "metadata": {},
   "source": [
    "while loops: interates until some condition is met. "
   ]
  },
  {
   "cell_type": "code",
   "execution_count": null,
   "id": "6212e19d",
   "metadata": {},
   "outputs": [],
   "source": [
    "i = 0\n",
    "while i < 10:\n",
    "    print(i, end= ' ')\n",
    "    i += 1"
   ]
  },
  {
   "cell_type": "markdown",
   "id": "c139d06c",
   "metadata": {},
   "source": [
    "### Exercise 2: Have a close look at the code below, especially in the output L. Try to explain what is going on. What is the code doing? "
   ]
  },
  {
   "cell_type": "code",
   "execution_count": null,
   "id": "3bed9030",
   "metadata": {},
   "outputs": [],
   "source": [
    "a = 0\n",
    "b = 1\n",
    "L = []\n",
    "while len(L)<12:\n",
    "    a, b = b, a+b\n",
    "    L.append(a)"
   ]
  },
  {
   "cell_type": "code",
   "execution_count": null,
   "id": "eadf1daf",
   "metadata": {},
   "outputs": [],
   "source": [
    "L"
   ]
  },
  {
   "cell_type": "markdown",
   "id": "94703e7b",
   "metadata": {},
   "source": [
    "We conclude this brief tutorial by introducing functions. These are defined with the \"def\" statement. As in mathematics, functions depend on arguments, but the power is that one can get the output of the function for any feeded argument. Below is a function that computes a linear function, where the arguments are the slope m and intercept b. "
   ]
  },
  {
   "cell_type": "code",
   "execution_count": null,
   "id": "d75da358",
   "metadata": {},
   "outputs": [],
   "source": [
    "def linear(x, m, b):\n",
    "    return m*x+b"
   ]
  },
  {
   "cell_type": "markdown",
   "id": "87e819c2",
   "metadata": {},
   "source": [
    "Let's assign values, m=0.5, b=-2 and x to range between 0 and 10. "
   ]
  },
  {
   "cell_type": "code",
   "execution_count": null,
   "id": "b9e1e835",
   "metadata": {},
   "outputs": [],
   "source": [
    "x = np.linspace(0, 10, 100)\n",
    "m = 0.5\n",
    "b = -2"
   ]
  },
  {
   "cell_type": "code",
   "execution_count": null,
   "id": "7e10b036",
   "metadata": {},
   "outputs": [],
   "source": [
    "y = linear(x, m, b)"
   ]
  },
  {
   "cell_type": "markdown",
   "id": "5203e7b6",
   "metadata": {},
   "source": [
    "Or this can be done also like this:"
   ]
  },
  {
   "cell_type": "code",
   "execution_count": null,
   "id": "ceb5ae64",
   "metadata": {},
   "outputs": [],
   "source": [
    "y = linear(np.linspace(0, 10, 100), 0.5, -2)"
   ]
  },
  {
   "cell_type": "code",
   "execution_count": null,
   "id": "abb83a7c",
   "metadata": {},
   "outputs": [],
   "source": [
    "plt.plot(x, y, color='black')"
   ]
  },
  {
   "cell_type": "markdown",
   "id": "3a3633d3",
   "metadata": {},
   "source": [
    "That's it for now!"
   ]
  },
  {
   "cell_type": "code",
   "execution_count": null,
   "id": "9c9d4656",
   "metadata": {},
   "outputs": [],
   "source": [
    "import watermark\n",
    "import matplotlib"
   ]
  },
  {
   "cell_type": "code",
   "execution_count": null,
   "id": "5a847fa5",
   "metadata": {},
   "outputs": [],
   "source": [
    "%load_ext watermark\n",
    "\n",
    "%watermark -v -m -p numpy,matplotlib,watermark"
   ]
  }
 ],
 "metadata": {
  "kernelspec": {
   "display_name": "Python 3 (ipykernel)",
   "language": "python",
   "name": "python3"
  },
  "language_info": {
   "codemirror_mode": {
    "name": "ipython",
    "version": 3
   },
   "file_extension": ".py",
   "mimetype": "text/x-python",
   "name": "python",
   "nbconvert_exporter": "python",
   "pygments_lexer": "ipython3",
   "version": "3.8.3"
  }
 },
 "nbformat": 4,
 "nbformat_minor": 5
}
